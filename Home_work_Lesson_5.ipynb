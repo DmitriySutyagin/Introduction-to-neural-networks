{
  "nbformat": 4,
  "nbformat_minor": 0,
  "metadata": {
    "colab": {
      "provenance": [],
      "authorship_tag": "ABX9TyMMWFH6SoNPBOBsIjNRT2AV",
      "include_colab_link": true
    },
    "kernelspec": {
      "name": "python3",
      "display_name": "Python 3"
    },
    "language_info": {
      "name": "python"
    }
  },
  "cells": [
    {
      "cell_type": "markdown",
      "metadata": {
        "id": "view-in-github",
        "colab_type": "text"
      },
      "source": [
        "<a href=\"https://colab.research.google.com/github/DmitriySutyagin/Introduction-to-neural-networks/blob/main/Home_work_Lesson_5.ipynb\" target=\"_parent\"><img src=\"https://colab.research.google.com/assets/colab-badge.svg\" alt=\"Open In Colab\"/></a>"
      ]
    },
    {
      "cell_type": "code",
      "source": [
        "import re\n",
        "import keras\n",
        "from keras.preprocessing.text import Tokenizer\n",
        "import numpy as np\n",
        "from keras.layers import *\n",
        "from keras.models import Sequential\n",
        "from keras.utils import to_categorical"
      ],
      "metadata": {
        "id": "UkfpLDj3XLtF"
      },
      "execution_count": 28,
      "outputs": []
    },
    {
      "cell_type": "code",
      "execution_count": 29,
      "metadata": {
        "id": "K2BJb8C_n_of"
      },
      "outputs": [],
      "source": [
        "with open('train_data.txt', 'r', encoding='utf-8') as f:\n",
        "    text = f.read()\n",
        "    text = text.replace('\\ufeff', '') # убираем первый невидимый символ\n",
        "    text = re.sub(r'[^А-я ]', '', text) # убираем все недопустимые символы"
      ]
    },
    {
      "cell_type": "code",
      "source": [
        "num_characters = 34 #33 буквы + пробел\n"
      ],
      "metadata": {
        "id": "CG0872A_FPRs"
      },
      "execution_count": 30,
      "outputs": []
    },
    {
      "cell_type": "code",
      "source": [
        "tokenizer = Tokenizer(num_words=num_characters, char_level=True)"
      ],
      "metadata": {
        "id": "80aMJ2jWFPON"
      },
      "execution_count": 31,
      "outputs": []
    },
    {
      "cell_type": "code",
      "source": [
        "tokenizer.fit_on_texts(text)"
      ],
      "metadata": {
        "id": "v1VkZ-B2FPLB"
      },
      "execution_count": 32,
      "outputs": []
    },
    {
      "cell_type": "code",
      "source": [
        "tokenizer.word_index"
      ],
      "metadata": {
        "id": "WgGUtNBuFPHt",
        "colab": {
          "base_uri": "https://localhost:8080/"
        },
        "outputId": "da221abd-057c-49e0-83c1-077c351edf19"
      },
      "execution_count": 33,
      "outputs": [
        {
          "output_type": "execute_result",
          "data": {
            "text/plain": [
              "{' ': 1,\n",
              " 'о': 2,\n",
              " 'т': 3,\n",
              " 'е': 4,\n",
              " 'и': 5,\n",
              " 'в': 6,\n",
              " 'н': 7,\n",
              " 'с': 8,\n",
              " 'л': 9,\n",
              " 'п': 10,\n",
              " 'ь': 11,\n",
              " 'ы': 12,\n",
              " 'р': 13,\n",
              " 'а': 14,\n",
              " 'д': 15,\n",
              " 'у': 16,\n",
              " 'к': 17,\n",
              " 'з': 18,\n",
              " 'ч': 19,\n",
              " 'й': 20,\n",
              " 'м': 21,\n",
              " 'г': 22,\n",
              " 'б': 23,\n",
              " 'я': 24,\n",
              " 'ш': 25,\n",
              " 'ю': 26,\n",
              " 'х': 27}"
            ]
          },
          "metadata": {},
          "execution_count": 33
        }
      ]
    },
    {
      "cell_type": "code",
      "source": [
        "inp_chars = 3\n",
        "data = tokenizer.texts_to_matrix(text)\n",
        "data"
      ],
      "metadata": {
        "id": "rjzRrPPGFO-q",
        "colab": {
          "base_uri": "https://localhost:8080/"
        },
        "outputId": "fe52de41-a7b3-4df9-ad5c-051230c34524"
      },
      "execution_count": 34,
      "outputs": [
        {
          "output_type": "execute_result",
          "data": {
            "text/plain": [
              "array([[0., 0., 0., ..., 0., 0., 0.],\n",
              "       [0., 0., 0., ..., 0., 0., 0.],\n",
              "       [0., 1., 0., ..., 0., 0., 0.],\n",
              "       ...,\n",
              "       [0., 0., 0., ..., 0., 0., 0.],\n",
              "       [0., 0., 1., ..., 0., 0., 0.],\n",
              "       [0., 0., 0., ..., 0., 0., 0.]])"
            ]
          },
          "metadata": {},
          "execution_count": 34
        }
      ]
    },
    {
      "cell_type": "code",
      "source": [
        "data[0]"
      ],
      "metadata": {
        "id": "slaMlQhiFO0q",
        "colab": {
          "base_uri": "https://localhost:8080/"
        },
        "outputId": "dd1563cb-fa5e-4856-a34e-a8a11876441e"
      },
      "execution_count": 35,
      "outputs": [
        {
          "output_type": "execute_result",
          "data": {
            "text/plain": [
              "array([0., 0., 0., 0., 0., 0., 1., 0., 0., 0., 0., 0., 0., 0., 0., 0., 0.,\n",
              "       0., 0., 0., 0., 0., 0., 0., 0., 0., 0., 0., 0., 0., 0., 0., 0., 0.])"
            ]
          },
          "metadata": {},
          "execution_count": 35
        }
      ]
    },
    {
      "cell_type": "code",
      "source": [
        "n = data.shape[0] - inp_chars\n",
        "n"
      ],
      "metadata": {
        "colab": {
          "base_uri": "https://localhost:8080/"
        },
        "id": "eYUKBYQ7Ml1X",
        "outputId": "8bc59a10-2ba0-420f-e8e8-4c50495d9ef6"
      },
      "execution_count": 36,
      "outputs": [
        {
          "output_type": "execute_result",
          "data": {
            "text/plain": [
              "202"
            ]
          },
          "metadata": {},
          "execution_count": 36
        }
      ]
    },
    {
      "cell_type": "code",
      "source": [
        "X = np.array([data[i:i+inp_chars, :] for i in range(n)])\n",
        "Y = data[inp_chars:] #предсказание следующего символа"
      ],
      "metadata": {
        "id": "ID9BmhxgO5Nj"
      },
      "execution_count": 37,
      "outputs": []
    },
    {
      "cell_type": "code",
      "source": [
        "X[0]\n"
      ],
      "metadata": {
        "colab": {
          "base_uri": "https://localhost:8080/"
        },
        "id": "sL2K_LCwJEDT",
        "outputId": "efbc6dc2-9af8-4e11-f96b-657235c9052f"
      },
      "execution_count": 38,
      "outputs": [
        {
          "output_type": "execute_result",
          "data": {
            "text/plain": [
              "array([[0., 0., 0., 0., 0., 0., 1., 0., 0., 0., 0., 0., 0., 0., 0., 0.,\n",
              "        0., 0., 0., 0., 0., 0., 0., 0., 0., 0., 0., 0., 0., 0., 0., 0.,\n",
              "        0., 0.],\n",
              "       [0., 0., 0., 0., 0., 0., 0., 0., 0., 0., 0., 0., 1., 0., 0., 0.,\n",
              "        0., 0., 0., 0., 0., 0., 0., 0., 0., 0., 0., 0., 0., 0., 0., 0.,\n",
              "        0., 0.],\n",
              "       [0., 1., 0., 0., 0., 0., 0., 0., 0., 0., 0., 0., 0., 0., 0., 0.,\n",
              "        0., 0., 0., 0., 0., 0., 0., 0., 0., 0., 0., 0., 0., 0., 0., 0.,\n",
              "        0., 0.]])"
            ]
          },
          "metadata": {},
          "execution_count": 38
        }
      ]
    },
    {
      "cell_type": "code",
      "source": [
        "model = Sequential()\n",
        "model.add(Input((inp_chars, num_characters)))\n",
        "model.add(SimpleRNN(500, activation='tanh'))\n",
        "model.add(Dense(num_characters, activation='softmax'))\n",
        "model.summary()"
      ],
      "metadata": {
        "colab": {
          "base_uri": "https://localhost:8080/"
        },
        "id": "VfiXbzcmNg7b",
        "outputId": "b49b931e-1c71-4714-f90e-d898189cd2f3"
      },
      "execution_count": 39,
      "outputs": [
        {
          "output_type": "stream",
          "name": "stdout",
          "text": [
            "Model: \"sequential_2\"\n",
            "_________________________________________________________________\n",
            " Layer (type)                Output Shape              Param #   \n",
            "=================================================================\n",
            " simple_rnn_2 (SimpleRNN)    (None, 500)               267500    \n",
            "                                                                 \n",
            " dense_2 (Dense)             (None, 34)                17034     \n",
            "                                                                 \n",
            "=================================================================\n",
            "Total params: 284534 (1.09 MB)\n",
            "Trainable params: 284534 (1.09 MB)\n",
            "Non-trainable params: 0 (0.00 Byte)\n",
            "_________________________________________________________________\n"
          ]
        }
      ]
    },
    {
      "cell_type": "code",
      "source": [
        "model.compile(loss='categorical_crossentropy', metrics=['accuracy'], optimizer='adam')\n",
        "history = model.fit(X, Y, batch_size=32, epochs=100)"
      ],
      "metadata": {
        "colab": {
          "base_uri": "https://localhost:8080/"
        },
        "id": "N4bDTZKmR5ey",
        "outputId": "bc639836-10ab-4b6a-c350-ea737f654ef8"
      },
      "execution_count": 40,
      "outputs": [
        {
          "output_type": "stream",
          "name": "stdout",
          "text": [
            "Epoch 1/100\n",
            "7/7 [==============================] - 1s 6ms/step - loss: 3.4358 - accuracy: 0.0941\n",
            "Epoch 2/100\n",
            "7/7 [==============================] - 0s 5ms/step - loss: 2.8139 - accuracy: 0.2970\n",
            "Epoch 3/100\n",
            "7/7 [==============================] - 0s 5ms/step - loss: 2.3704 - accuracy: 0.2970\n",
            "Epoch 4/100\n",
            "7/7 [==============================] - 0s 5ms/step - loss: 2.1132 - accuracy: 0.3762\n",
            "Epoch 5/100\n",
            "7/7 [==============================] - 0s 5ms/step - loss: 1.9092 - accuracy: 0.4455\n",
            "Epoch 6/100\n",
            "7/7 [==============================] - 0s 5ms/step - loss: 1.7413 - accuracy: 0.4802\n",
            "Epoch 7/100\n",
            "7/7 [==============================] - 0s 6ms/step - loss: 1.5968 - accuracy: 0.5198\n",
            "Epoch 8/100\n",
            "7/7 [==============================] - 0s 5ms/step - loss: 1.4696 - accuracy: 0.5446\n",
            "Epoch 9/100\n",
            "7/7 [==============================] - 0s 5ms/step - loss: 1.3805 - accuracy: 0.5347\n",
            "Epoch 10/100\n",
            "7/7 [==============================] - 0s 6ms/step - loss: 1.3025 - accuracy: 0.5891\n",
            "Epoch 11/100\n",
            "7/7 [==============================] - 0s 6ms/step - loss: 1.2311 - accuracy: 0.5842\n",
            "Epoch 12/100\n",
            "7/7 [==============================] - 0s 6ms/step - loss: 1.1673 - accuracy: 0.6287\n",
            "Epoch 13/100\n",
            "7/7 [==============================] - 0s 6ms/step - loss: 1.1240 - accuracy: 0.6634\n",
            "Epoch 14/100\n",
            "7/7 [==============================] - 0s 5ms/step - loss: 1.0843 - accuracy: 0.6584\n",
            "Epoch 15/100\n",
            "7/7 [==============================] - 0s 6ms/step - loss: 1.0640 - accuracy: 0.6436\n",
            "Epoch 16/100\n",
            "7/7 [==============================] - 0s 6ms/step - loss: 1.0136 - accuracy: 0.6881\n",
            "Epoch 17/100\n",
            "7/7 [==============================] - 0s 6ms/step - loss: 0.9765 - accuracy: 0.6782\n",
            "Epoch 18/100\n",
            "7/7 [==============================] - 0s 7ms/step - loss: 0.9399 - accuracy: 0.7079\n",
            "Epoch 19/100\n",
            "7/7 [==============================] - 0s 5ms/step - loss: 0.9204 - accuracy: 0.6980\n",
            "Epoch 20/100\n",
            "7/7 [==============================] - 0s 6ms/step - loss: 0.8950 - accuracy: 0.7327\n",
            "Epoch 21/100\n",
            "7/7 [==============================] - 0s 6ms/step - loss: 0.8607 - accuracy: 0.7277\n",
            "Epoch 22/100\n",
            "7/7 [==============================] - 0s 5ms/step - loss: 0.8354 - accuracy: 0.7277\n",
            "Epoch 23/100\n",
            "7/7 [==============================] - 0s 5ms/step - loss: 0.7927 - accuracy: 0.7822\n",
            "Epoch 24/100\n",
            "7/7 [==============================] - 0s 6ms/step - loss: 0.8107 - accuracy: 0.7475\n",
            "Epoch 25/100\n",
            "7/7 [==============================] - 0s 6ms/step - loss: 0.7996 - accuracy: 0.7475\n",
            "Epoch 26/100\n",
            "7/7 [==============================] - 0s 5ms/step - loss: 0.7892 - accuracy: 0.7426\n",
            "Epoch 27/100\n",
            "7/7 [==============================] - 0s 6ms/step - loss: 0.7678 - accuracy: 0.7525\n",
            "Epoch 28/100\n",
            "7/7 [==============================] - 0s 5ms/step - loss: 0.7694 - accuracy: 0.7525\n",
            "Epoch 29/100\n",
            "7/7 [==============================] - 0s 5ms/step - loss: 0.7411 - accuracy: 0.7525\n",
            "Epoch 30/100\n",
            "7/7 [==============================] - 0s 6ms/step - loss: 0.7351 - accuracy: 0.7574\n",
            "Epoch 31/100\n",
            "7/7 [==============================] - 0s 5ms/step - loss: 0.7511 - accuracy: 0.7772\n",
            "Epoch 32/100\n",
            "7/7 [==============================] - 0s 5ms/step - loss: 0.7395 - accuracy: 0.7673\n",
            "Epoch 33/100\n",
            "7/7 [==============================] - 0s 6ms/step - loss: 0.6781 - accuracy: 0.7871\n",
            "Epoch 34/100\n",
            "7/7 [==============================] - 0s 5ms/step - loss: 0.6926 - accuracy: 0.7970\n",
            "Epoch 35/100\n",
            "7/7 [==============================] - 0s 6ms/step - loss: 0.6509 - accuracy: 0.7970\n",
            "Epoch 36/100\n",
            "7/7 [==============================] - 0s 5ms/step - loss: 0.6620 - accuracy: 0.8119\n",
            "Epoch 37/100\n",
            "7/7 [==============================] - 0s 5ms/step - loss: 0.6551 - accuracy: 0.7772\n",
            "Epoch 38/100\n",
            "7/7 [==============================] - 0s 5ms/step - loss: 0.6441 - accuracy: 0.8020\n",
            "Epoch 39/100\n",
            "7/7 [==============================] - 0s 5ms/step - loss: 0.6310 - accuracy: 0.8267\n",
            "Epoch 40/100\n",
            "7/7 [==============================] - 0s 5ms/step - loss: 0.6018 - accuracy: 0.8069\n",
            "Epoch 41/100\n",
            "7/7 [==============================] - 0s 7ms/step - loss: 0.6181 - accuracy: 0.8020\n",
            "Epoch 42/100\n",
            "7/7 [==============================] - 0s 5ms/step - loss: 0.6076 - accuracy: 0.8069\n",
            "Epoch 43/100\n",
            "7/7 [==============================] - 0s 5ms/step - loss: 0.5788 - accuracy: 0.8317\n",
            "Epoch 44/100\n",
            "7/7 [==============================] - 0s 6ms/step - loss: 0.6095 - accuracy: 0.8366\n",
            "Epoch 45/100\n",
            "7/7 [==============================] - 0s 5ms/step - loss: 0.5555 - accuracy: 0.8515\n",
            "Epoch 46/100\n",
            "7/7 [==============================] - 0s 6ms/step - loss: 0.5761 - accuracy: 0.8069\n",
            "Epoch 47/100\n",
            "7/7 [==============================] - 0s 6ms/step - loss: 0.5672 - accuracy: 0.8366\n",
            "Epoch 48/100\n",
            "7/7 [==============================] - 0s 6ms/step - loss: 0.5574 - accuracy: 0.7921\n",
            "Epoch 49/100\n",
            "7/7 [==============================] - 0s 6ms/step - loss: 0.5502 - accuracy: 0.7624\n",
            "Epoch 50/100\n",
            "7/7 [==============================] - 0s 6ms/step - loss: 0.5621 - accuracy: 0.8168\n",
            "Epoch 51/100\n",
            "7/7 [==============================] - 0s 6ms/step - loss: 0.5325 - accuracy: 0.8515\n",
            "Epoch 52/100\n",
            "7/7 [==============================] - 0s 5ms/step - loss: 0.5208 - accuracy: 0.8366\n",
            "Epoch 53/100\n",
            "7/7 [==============================] - 0s 5ms/step - loss: 0.5388 - accuracy: 0.8069\n",
            "Epoch 54/100\n",
            "7/7 [==============================] - 0s 5ms/step - loss: 0.5398 - accuracy: 0.8168\n",
            "Epoch 55/100\n",
            "7/7 [==============================] - 0s 5ms/step - loss: 0.5296 - accuracy: 0.8366\n",
            "Epoch 56/100\n",
            "7/7 [==============================] - 0s 5ms/step - loss: 0.4841 - accuracy: 0.8416\n",
            "Epoch 57/100\n",
            "7/7 [==============================] - 0s 5ms/step - loss: 0.5125 - accuracy: 0.8366\n",
            "Epoch 58/100\n",
            "7/7 [==============================] - 0s 5ms/step - loss: 0.4875 - accuracy: 0.8614\n",
            "Epoch 59/100\n",
            "7/7 [==============================] - 0s 6ms/step - loss: 0.4769 - accuracy: 0.8416\n",
            "Epoch 60/100\n",
            "7/7 [==============================] - 0s 6ms/step - loss: 0.4475 - accuracy: 0.8713\n",
            "Epoch 61/100\n",
            "7/7 [==============================] - 0s 6ms/step - loss: 0.4503 - accuracy: 0.8416\n",
            "Epoch 62/100\n",
            "7/7 [==============================] - 0s 6ms/step - loss: 0.4550 - accuracy: 0.8564\n",
            "Epoch 63/100\n",
            "7/7 [==============================] - 0s 7ms/step - loss: 0.4520 - accuracy: 0.8614\n",
            "Epoch 64/100\n",
            "7/7 [==============================] - 0s 6ms/step - loss: 0.4419 - accuracy: 0.8465\n",
            "Epoch 65/100\n",
            "7/7 [==============================] - 0s 6ms/step - loss: 0.4187 - accuracy: 0.8614\n",
            "Epoch 66/100\n",
            "7/7 [==============================] - 0s 6ms/step - loss: 0.4555 - accuracy: 0.8515\n",
            "Epoch 67/100\n",
            "7/7 [==============================] - 0s 6ms/step - loss: 0.4334 - accuracy: 0.8465\n",
            "Epoch 68/100\n",
            "7/7 [==============================] - 0s 6ms/step - loss: 0.4467 - accuracy: 0.8515\n",
            "Epoch 69/100\n",
            "7/7 [==============================] - 0s 7ms/step - loss: 0.4365 - accuracy: 0.8614\n",
            "Epoch 70/100\n",
            "7/7 [==============================] - 0s 6ms/step - loss: 0.4501 - accuracy: 0.8515\n",
            "Epoch 71/100\n",
            "7/7 [==============================] - 0s 6ms/step - loss: 0.4378 - accuracy: 0.8663\n",
            "Epoch 72/100\n",
            "7/7 [==============================] - 0s 6ms/step - loss: 0.4394 - accuracy: 0.8663\n",
            "Epoch 73/100\n",
            "7/7 [==============================] - 0s 6ms/step - loss: 0.4331 - accuracy: 0.8614\n",
            "Epoch 74/100\n",
            "7/7 [==============================] - 0s 6ms/step - loss: 0.4108 - accuracy: 0.8515\n",
            "Epoch 75/100\n",
            "7/7 [==============================] - 0s 6ms/step - loss: 0.4473 - accuracy: 0.8317\n",
            "Epoch 76/100\n",
            "7/7 [==============================] - 0s 6ms/step - loss: 0.4248 - accuracy: 0.8465\n",
            "Epoch 77/100\n",
            "7/7 [==============================] - 0s 5ms/step - loss: 0.4278 - accuracy: 0.8564\n",
            "Epoch 78/100\n",
            "7/7 [==============================] - 0s 6ms/step - loss: 0.4216 - accuracy: 0.8614\n",
            "Epoch 79/100\n",
            "7/7 [==============================] - 0s 5ms/step - loss: 0.4217 - accuracy: 0.8713\n",
            "Epoch 80/100\n",
            "7/7 [==============================] - 0s 6ms/step - loss: 0.4119 - accuracy: 0.8762\n",
            "Epoch 81/100\n",
            "7/7 [==============================] - 0s 5ms/step - loss: 0.4246 - accuracy: 0.8614\n",
            "Epoch 82/100\n",
            "7/7 [==============================] - 0s 6ms/step - loss: 0.4539 - accuracy: 0.8564\n",
            "Epoch 83/100\n",
            "7/7 [==============================] - 0s 5ms/step - loss: 0.4385 - accuracy: 0.8663\n",
            "Epoch 84/100\n",
            "7/7 [==============================] - 0s 5ms/step - loss: 0.3885 - accuracy: 0.8614\n",
            "Epoch 85/100\n",
            "7/7 [==============================] - 0s 5ms/step - loss: 0.3908 - accuracy: 0.8762\n",
            "Epoch 86/100\n",
            "7/7 [==============================] - 0s 6ms/step - loss: 0.3787 - accuracy: 0.8861\n",
            "Epoch 87/100\n",
            "7/7 [==============================] - 0s 5ms/step - loss: 0.3782 - accuracy: 0.8713\n",
            "Epoch 88/100\n",
            "7/7 [==============================] - 0s 5ms/step - loss: 0.3517 - accuracy: 0.9010\n",
            "Epoch 89/100\n",
            "7/7 [==============================] - 0s 6ms/step - loss: 0.3916 - accuracy: 0.8663\n",
            "Epoch 90/100\n",
            "7/7 [==============================] - 0s 6ms/step - loss: 0.3588 - accuracy: 0.8713\n",
            "Epoch 91/100\n",
            "7/7 [==============================] - 0s 5ms/step - loss: 0.3524 - accuracy: 0.8911\n",
            "Epoch 92/100\n",
            "7/7 [==============================] - 0s 5ms/step - loss: 0.3856 - accuracy: 0.8564\n",
            "Epoch 93/100\n",
            "7/7 [==============================] - 0s 6ms/step - loss: 0.3707 - accuracy: 0.8713\n",
            "Epoch 94/100\n",
            "7/7 [==============================] - 0s 5ms/step - loss: 0.3993 - accuracy: 0.8564\n",
            "Epoch 95/100\n",
            "7/7 [==============================] - 0s 5ms/step - loss: 0.3587 - accuracy: 0.8861\n",
            "Epoch 96/100\n",
            "7/7 [==============================] - 0s 6ms/step - loss: 0.3707 - accuracy: 0.8663\n",
            "Epoch 97/100\n",
            "7/7 [==============================] - 0s 5ms/step - loss: 0.3587 - accuracy: 0.8762\n",
            "Epoch 98/100\n",
            "7/7 [==============================] - 0s 6ms/step - loss: 0.3950 - accuracy: 0.8564\n",
            "Epoch 99/100\n",
            "7/7 [==============================] - 0s 6ms/step - loss: 0.3483 - accuracy: 0.8812\n",
            "Epoch 100/100\n",
            "7/7 [==============================] - 0s 5ms/step - loss: 0.3500 - accuracy: 0.8812\n"
          ]
        }
      ]
    },
    {
      "cell_type": "code",
      "source": [
        "def buildPhrase(inp_str, str_len = 50):\n",
        "  for i in range(str_len):\n",
        "    x = []\n",
        "    for j in range(i, i+inp_chars):\n",
        "      x.append(tokenizer.texts_to_matrix(inp_str[j])) # преобразуем символы в One-Hot-encoding\n",
        "\n",
        "    x = np.array(x)\n",
        "    inp = x.reshape(1, inp_chars, num_characters)\n",
        "\n",
        "    pred = model.predict( inp ) # предсказываем OHE четвертого символа\n",
        "    d = tokenizer.index_word[pred.argmax(axis=1)[0]] # получаем ответ в символьном представлении\n",
        "\n",
        "    inp_str += d # дописываем строку\n",
        "\n",
        "  return inp_str"
      ],
      "metadata": {
        "id": "5446tLpbTH-c"
      },
      "execution_count": 41,
      "outputs": []
    },
    {
      "cell_type": "code",
      "source": [
        "res = buildPhrase(\"вер\")\n",
        "res\n"
      ],
      "metadata": {
        "colab": {
          "base_uri": "https://localhost:8080/",
          "height": 903
        },
        "id": "ayV97Fq0VcG-",
        "outputId": "2ebb2ef3-3977-46eb-bda7-5ac8eef90106"
      },
      "execution_count": 42,
      "outputs": [
        {
          "output_type": "stream",
          "name": "stdout",
          "text": [
            "1/1 [==============================] - 0s 99ms/step\n",
            "1/1 [==============================] - 0s 15ms/step\n",
            "1/1 [==============================] - 0s 14ms/step\n",
            "1/1 [==============================] - 0s 14ms/step\n",
            "1/1 [==============================] - 0s 18ms/step\n",
            "1/1 [==============================] - 0s 19ms/step\n",
            "1/1 [==============================] - 0s 15ms/step\n",
            "1/1 [==============================] - 0s 18ms/step\n",
            "1/1 [==============================] - 0s 17ms/step\n",
            "1/1 [==============================] - 0s 17ms/step\n",
            "1/1 [==============================] - 0s 15ms/step\n",
            "1/1 [==============================] - 0s 15ms/step\n",
            "1/1 [==============================] - 0s 16ms/step\n",
            "1/1 [==============================] - 0s 14ms/step\n",
            "1/1 [==============================] - 0s 15ms/step\n",
            "1/1 [==============================] - 0s 15ms/step\n",
            "1/1 [==============================] - 0s 18ms/step\n",
            "1/1 [==============================] - 0s 14ms/step\n",
            "1/1 [==============================] - 0s 16ms/step\n",
            "1/1 [==============================] - 0s 13ms/step\n",
            "1/1 [==============================] - 0s 14ms/step\n",
            "1/1 [==============================] - 0s 14ms/step\n",
            "1/1 [==============================] - 0s 15ms/step\n",
            "1/1 [==============================] - 0s 14ms/step\n",
            "1/1 [==============================] - 0s 17ms/step\n",
            "1/1 [==============================] - 0s 13ms/step\n",
            "1/1 [==============================] - 0s 16ms/step\n",
            "1/1 [==============================] - 0s 14ms/step\n",
            "1/1 [==============================] - 0s 13ms/step\n",
            "1/1 [==============================] - 0s 15ms/step\n",
            "1/1 [==============================] - 0s 15ms/step\n",
            "1/1 [==============================] - 0s 14ms/step\n",
            "1/1 [==============================] - 0s 15ms/step\n",
            "1/1 [==============================] - 0s 14ms/step\n",
            "1/1 [==============================] - 0s 14ms/step\n",
            "1/1 [==============================] - 0s 15ms/step\n",
            "1/1 [==============================] - 0s 15ms/step\n",
            "1/1 [==============================] - 0s 14ms/step\n",
            "1/1 [==============================] - 0s 14ms/step\n",
            "1/1 [==============================] - 0s 14ms/step\n",
            "1/1 [==============================] - 0s 15ms/step\n",
            "1/1 [==============================] - 0s 23ms/step\n",
            "1/1 [==============================] - 0s 19ms/step\n",
            "1/1 [==============================] - 0s 22ms/step\n",
            "1/1 [==============================] - 0s 22ms/step\n",
            "1/1 [==============================] - 0s 19ms/step\n",
            "1/1 [==============================] - 0s 22ms/step\n",
            "1/1 [==============================] - 0s 22ms/step\n",
            "1/1 [==============================] - 0s 26ms/step\n",
            "1/1 [==============================] - 0s 24ms/step\n"
          ]
        },
        {
          "output_type": "execute_result",
          "data": {
            "text/plain": [
              "'верьте понедельникли в понедельникли в понедельникли '"
            ],
            "application/vnd.google.colaboratory.intrinsic+json": {
              "type": "string"
            }
          },
          "metadata": {},
          "execution_count": 42
        }
      ]
    },
    {
      "cell_type": "markdown",
      "source": [
        "# ***Слова***"
      ],
      "metadata": {
        "id": "HCcXhCmqZJhG"
      }
    },
    {
      "cell_type": "code",
      "execution_count": 43,
      "metadata": {
        "id": "nE1nnAICY-zX"
      },
      "outputs": [],
      "source": [
        "with open('train_data.txt', 'r', encoding='utf-8') as f:\n",
        "    text = f.read()\n",
        "    text = text.replace('\\ufeff', '') # убираем первый невидимый символ"
      ]
    },
    {
      "cell_type": "code",
      "source": [
        "maxWordsCount = 1000\n",
        "tokenizer = Tokenizer(num_words=maxWordsCount, filters='!–\"—#$%&amp;()*+,-./:;<=>?@[\\\\]^_`{|}~\\t\\n\\r«»',\n",
        "lower=True, split=' ', char_level=False)\n",
        "tokenizer.fit_on_texts([text])"
      ],
      "metadata": {
        "id": "eET_5g0gZHo7"
      },
      "execution_count": 44,
      "outputs": []
    },
    {
      "cell_type": "code",
      "source": [
        "dist = list(tokenizer.word_counts.items())\n",
        "print(dist[:10])"
      ],
      "metadata": {
        "colab": {
          "base_uri": "https://localhost:8080/"
        },
        "id": "Td-HRDENY-UW",
        "outputId": "8d95fd06-6083-486d-d896-aafcdab8a6d0"
      },
      "execution_count": 45,
      "outputs": [
        {
          "output_type": "stream",
          "name": "stdout",
          "text": [
            "[('вы', 3), ('лучший', 1), ('ответ', 1), ('на', 1), ('проблемы', 1), ('которые', 1), ('возникли', 1), ('в', 3), ('понедельник', 2), ('думайте', 1)]\n"
          ]
        }
      ]
    },
    {
      "cell_type": "code",
      "source": [
        "data = tokenizer.texts_to_sequences([text])\n",
        "print(data, end = ' ')"
      ],
      "metadata": {
        "colab": {
          "base_uri": "https://localhost:8080/"
        },
        "id": "U4YVOsriachj",
        "outputId": "e3fe5c33-aff8-4ca3-be64-1f2b147b7d65"
      },
      "execution_count": 46,
      "outputs": [
        {
          "output_type": "stream",
          "name": "stdout",
          "text": [
            "[[1, 4, 5, 6, 7, 8, 9, 2, 3, 10, 11, 12, 13, 2, 14, 15, 16, 17, 18, 19, 1, 20, 2, 3, 21, 22, 23, 24, 1, 25, 26]] "
          ]
        }
      ]
    },
    {
      "cell_type": "code",
      "source": [
        "tokenizer.word_index"
      ],
      "metadata": {
        "colab": {
          "base_uri": "https://localhost:8080/"
        },
        "id": "mLlhA4ZgbblK",
        "outputId": "198d573b-3adf-44f6-d452-a56b9bf8d6e3"
      },
      "execution_count": 47,
      "outputs": [
        {
          "output_type": "execute_result",
          "data": {
            "text/plain": [
              "{'вы': 1,\n",
              " 'в': 2,\n",
              " 'понедельник': 3,\n",
              " 'лучший': 4,\n",
              " 'ответ': 5,\n",
              " 'на': 6,\n",
              " 'проблемы': 7,\n",
              " 'которые': 8,\n",
              " 'возникли': 9,\n",
              " 'думайте': 10,\n",
              " 'позитивно': 11,\n",
              " 'и': 12,\n",
              " 'верьте': 13,\n",
              " 'свою': 14,\n",
              " 'способность': 15,\n",
              " 'достигать': 16,\n",
              " 'отличных': 17,\n",
              " 'результатов': 18,\n",
              " 'если': 19,\n",
              " 'смогли': 20,\n",
              " 'подняться': 21,\n",
              " 'с': 22,\n",
              " 'постели': 23,\n",
              " 'значит': 24,\n",
              " 'супер': 25,\n",
              " 'герой': 26}"
            ]
          },
          "metadata": {},
          "execution_count": 47
        }
      ]
    },
    {
      "cell_type": "code",
      "source": [
        "res = keras.utils.to_categorical(data[0], num_classes=maxWordsCount)\n",
        "res.shape"
      ],
      "metadata": {
        "colab": {
          "base_uri": "https://localhost:8080/"
        },
        "id": "nD357kGybMbH",
        "outputId": "99f15cd7-cc15-4921-f944-3fe31d650f98"
      },
      "execution_count": 48,
      "outputs": [
        {
          "output_type": "execute_result",
          "data": {
            "text/plain": [
              "(31, 1000)"
            ]
          },
          "metadata": {},
          "execution_count": 48
        }
      ]
    },
    {
      "cell_type": "code",
      "source": [
        "inp_words = 3\n",
        "n = res.shape[0]-inp_words\n",
        "res.shape"
      ],
      "metadata": {
        "colab": {
          "base_uri": "https://localhost:8080/"
        },
        "id": "fIXxrn1Mb8ZR",
        "outputId": "66331a23-9cd3-42dc-e0f6-1b494ee99682"
      },
      "execution_count": 49,
      "outputs": [
        {
          "output_type": "execute_result",
          "data": {
            "text/plain": [
              "(31, 1000)"
            ]
          },
          "metadata": {},
          "execution_count": 49
        }
      ]
    },
    {
      "cell_type": "code",
      "source": [
        "X = np.array([res[i:i+inp_words, :] for i in range(n)])\n",
        "Y = res[inp_words:]"
      ],
      "metadata": {
        "id": "3N1c-DibcDnE"
      },
      "execution_count": 50,
      "outputs": []
    },
    {
      "cell_type": "code",
      "source": [
        "model = Sequential()\n",
        "model.add(Input((inp_words, maxWordsCount)))\n",
        "model.add(SimpleRNN(128, activation='tanh'))\n",
        "model.add(Dense(maxWordsCount, activation='softmax'))\n",
        "model.summary()\n",
        "\n",
        "model.compile(loss='categorical_crossentropy', metrics=['accuracy'], optimizer='adam')"
      ],
      "metadata": {
        "colab": {
          "base_uri": "https://localhost:8080/"
        },
        "id": "ELiG68OScRhj",
        "outputId": "fd17cae3-e464-42ef-c555-a8225cdccd93"
      },
      "execution_count": 51,
      "outputs": [
        {
          "output_type": "stream",
          "name": "stdout",
          "text": [
            "Model: \"sequential_3\"\n",
            "_________________________________________________________________\n",
            " Layer (type)                Output Shape              Param #   \n",
            "=================================================================\n",
            " simple_rnn_3 (SimpleRNN)    (None, 128)               144512    \n",
            "                                                                 \n",
            " dense_3 (Dense)             (None, 1000)              129000    \n",
            "                                                                 \n",
            "=================================================================\n",
            "Total params: 273512 (1.04 MB)\n",
            "Trainable params: 273512 (1.04 MB)\n",
            "Non-trainable params: 0 (0.00 Byte)\n",
            "_________________________________________________________________\n"
          ]
        }
      ]
    },
    {
      "cell_type": "code",
      "source": [
        "history = model.fit(X, Y, batch_size=32, epochs=19)"
      ],
      "metadata": {
        "colab": {
          "base_uri": "https://localhost:8080/"
        },
        "id": "OsUUv3T-cZ3K",
        "outputId": "545e34a5-fff7-400e-ce79-043a769db41c"
      },
      "execution_count": 52,
      "outputs": [
        {
          "output_type": "stream",
          "name": "stdout",
          "text": [
            "Epoch 1/19\n",
            "1/1 [==============================] - 1s 821ms/step - loss: 6.9119 - accuracy: 0.0000e+00\n",
            "Epoch 2/19\n",
            "1/1 [==============================] - 0s 9ms/step - loss: 6.8858 - accuracy: 0.0000e+00\n",
            "Epoch 3/19\n",
            "1/1 [==============================] - 0s 10ms/step - loss: 6.8596 - accuracy: 0.0357\n",
            "Epoch 4/19\n",
            "1/1 [==============================] - 0s 10ms/step - loss: 6.8331 - accuracy: 0.1429\n",
            "Epoch 5/19\n",
            "1/1 [==============================] - 0s 10ms/step - loss: 6.8058 - accuracy: 0.3929\n",
            "Epoch 6/19\n",
            "1/1 [==============================] - 0s 9ms/step - loss: 6.7776 - accuracy: 0.5357\n",
            "Epoch 7/19\n",
            "1/1 [==============================] - 0s 9ms/step - loss: 6.7481 - accuracy: 0.7857\n",
            "Epoch 8/19\n",
            "1/1 [==============================] - 0s 11ms/step - loss: 6.7171 - accuracy: 0.9286\n",
            "Epoch 9/19\n",
            "1/1 [==============================] - 0s 9ms/step - loss: 6.6842 - accuracy: 0.9643\n",
            "Epoch 10/19\n",
            "1/1 [==============================] - 0s 9ms/step - loss: 6.6491 - accuracy: 0.9643\n",
            "Epoch 11/19\n",
            "1/1 [==============================] - 0s 9ms/step - loss: 6.6112 - accuracy: 0.9643\n",
            "Epoch 12/19\n",
            "1/1 [==============================] - 0s 11ms/step - loss: 6.5703 - accuracy: 0.9643\n",
            "Epoch 13/19\n",
            "1/1 [==============================] - 0s 10ms/step - loss: 6.5256 - accuracy: 0.9643\n",
            "Epoch 14/19\n",
            "1/1 [==============================] - 0s 11ms/step - loss: 6.4767 - accuracy: 0.9643\n",
            "Epoch 15/19\n",
            "1/1 [==============================] - 0s 11ms/step - loss: 6.4227 - accuracy: 0.9643\n",
            "Epoch 16/19\n",
            "1/1 [==============================] - 0s 19ms/step - loss: 6.3628 - accuracy: 0.9643\n",
            "Epoch 17/19\n",
            "1/1 [==============================] - 0s 9ms/step - loss: 6.2960 - accuracy: 0.9643\n",
            "Epoch 18/19\n",
            "1/1 [==============================] - 0s 10ms/step - loss: 6.2213 - accuracy: 0.9643\n",
            "Epoch 19/19\n",
            "1/1 [==============================] - 0s 13ms/step - loss: 6.1372 - accuracy: 0.9643\n"
          ]
        }
      ]
    },
    {
      "cell_type": "code",
      "source": [
        "def buildPhrase_2(texts, str_len = 20):\n",
        "  res =texts\n",
        "  maxWordsCount =1000\n",
        "  data = tokenizer.texts_to_sequences([texts])[0]\n",
        "  data_reshaped = np.expand_dims(data, axis=0)\n",
        "  data_batch = np.expand_dims(data_reshaped, axis=-1)\n",
        "\n",
        "  for i in range(str_len):\n",
        "      x = keras.utils.to_categorical(data_batch[i: i+inp_words], num_classes=maxWordsCount) # преобразуем в One-Hot-encoding\n",
        "\n",
        "  inp = np.resize(x, (1, inp_words, maxWordsCount))\n",
        "\n",
        "\n",
        "  pred = model.predict( inp ) # предсказываем OHE четвертого символа\n",
        "  indx = pred.argmax(axis=1)[0]\n",
        "  data.append(indx)\n",
        "\n",
        "  res += \" \" + tokenizer.index_word[indx] # дописываем строку\n",
        "\n",
        "  return res"
      ],
      "metadata": {
        "id": "ozgf5iVtcsS1"
      },
      "execution_count": 53,
      "outputs": []
    },
    {
      "cell_type": "code",
      "source": [
        "res = buildPhrase_2(\"позитив добавляет годы\")\n",
        "res"
      ],
      "metadata": {
        "colab": {
          "base_uri": "https://localhost:8080/",
          "height": 53
        },
        "id": "yangJOMJdTFK",
        "outputId": "0f17ecd3-83ce-42a0-b741-e1ef21c3808f"
      },
      "execution_count": 54,
      "outputs": [
        {
          "output_type": "stream",
          "name": "stdout",
          "text": [
            "1/1 [==============================] - 0s 101ms/step\n"
          ]
        },
        {
          "output_type": "execute_result",
          "data": {
            "text/plain": [
              "'позитив добавляет годы понедельник'"
            ],
            "application/vnd.google.colaboratory.intrinsic+json": {
              "type": "string"
            }
          },
          "metadata": {},
          "execution_count": 54
        }
      ]
    }
  ]
}