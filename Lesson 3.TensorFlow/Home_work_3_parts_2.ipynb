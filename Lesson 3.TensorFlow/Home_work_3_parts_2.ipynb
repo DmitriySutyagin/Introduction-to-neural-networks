{
  "nbformat": 4,
  "nbformat_minor": 0,
  "metadata": {
    "colab": {
      "provenance": []
    },
    "kernelspec": {
      "name": "python3",
      "display_name": "Python 3"
    },
    "language_info": {
      "name": "python"
    }
  },
  "cells": [
    {
      "cell_type": "code",
      "source": [
        "from __future__ import absolute_import, division, print_function, unicode_literals\n",
        "from tensorflow.keras.datasets import imdb\n",
        "import tensorflow as tf\n",
        "from tensorflow import keras\n",
        "import numpy as np\n",
        "import matplotlib.pyplot as plt\n",
        "from tensorflow.python.keras.layers import Embedding, Flatten, Dense\n",
        "import keras.utils\n",
        "import matplotlib.pyplot as plt\n",
        "from tensorflow.keras.layers import Conv2D, MaxPooling2D"
      ],
      "metadata": {
        "id": "gnmOkRa6mjMU"
      },
      "execution_count": null,
      "outputs": []
    },
    {
      "cell_type": "code",
      "execution_count": null,
      "metadata": {
        "id": "PKYVE3RemRiU",
        "colab": {
          "base_uri": "https://localhost:8080/"
        },
        "outputId": "43beb2f1-c309-4724-f028-dbe3f34a5076"
      },
      "outputs": [
        {
          "output_type": "stream",
          "name": "stdout",
          "text": [
            "Downloading data from https://storage.googleapis.com/tensorflow/tf-keras-datasets/imdb.npz\n",
            "17464789/17464789 [==============================] - 1s 0us/step\n"
          ]
        }
      ],
      "source": [
        "(train_data, train_labels), (test_data, test_labels) =  imdb.load_data(num_words=10000)"
      ]
    },
    {
      "cell_type": "code",
      "source": [
        "input_shape = (28, 28, 1)"
      ],
      "metadata": {
        "id": "pg2MR1UCXdAh"
      },
      "execution_count": null,
      "outputs": []
    },
    {
      "cell_type": "code",
      "execution_count": null,
      "metadata": {
        "id": "fxN_Lngl1fqz"
      },
      "outputs": [],
      "source": [
        "def one_hot_encoder(samples, no_features):\n",
        "  output_tensor = np.zeros((len(samples), no_features))\n",
        "  for idx, sample in enumerate(samples):\n",
        "    output_tensor[idx, sample] = 1\n",
        "  return output_tensor"
      ]
    },
    {
      "cell_type": "code",
      "execution_count": null,
      "metadata": {
        "id": "83Icrv904CPo"
      },
      "outputs": [],
      "source": [
        "x_train = one_hot_encoder(train_data, 10000)\n",
        "x_test = one_hot_encoder(test_data, 10000)"
      ]
    },
    {
      "cell_type": "code",
      "execution_count": null,
      "metadata": {
        "id": "uSHAySCO4rEx"
      },
      "outputs": [],
      "source": [
        "y_train = np.asarray(train_labels).astype('float32')\n",
        "y_test = np.asarray(test_labels).astype('float32')"
      ]
    },
    {
      "cell_type": "code",
      "source": [
        "model = keras.models.Sequential([\n",
        "\n",
        "    Dense(16, activation= 'relu',input_shape = (10000,)),\n",
        "    Dense(16, activation= 'relu'),\n",
        "    Dense(1, activation= 'sigmoid')\n",
        "    ])"
      ],
      "metadata": {
        "id": "L16Zfvx0tjr6"
      },
      "execution_count": null,
      "outputs": []
    },
    {
      "cell_type": "code",
      "source": [
        "model.compile(optimizer=keras.optimizers.RMSprop(learning_rate=0.001),\n",
        "              loss='binary_crossentropy',\n",
        "              metrics=['accuracy'])"
      ],
      "metadata": {
        "id": "vGuoFL0PtjoM"
      },
      "execution_count": null,
      "outputs": []
    },
    {
      "cell_type": "code",
      "execution_count": null,
      "metadata": {
        "id": "q1Sz_mx5shrf"
      },
      "outputs": [],
      "source": [
        "x_val_set = x_train[:10000]\n",
        "x_train_set = x_train[10000:]"
      ]
    },
    {
      "cell_type": "code",
      "execution_count": null,
      "metadata": {
        "id": "HidQrxZbs38I"
      },
      "outputs": [],
      "source": [
        "y_val_set = y_train[:10000]\n",
        "y_train_set = y_train[10000:]"
      ]
    },
    {
      "cell_type": "code",
      "execution_count": null,
      "metadata": {
        "colab": {
          "base_uri": "https://localhost:8080/"
        },
        "id": "REMoGhAYtdVA",
        "outputId": "0ee5b74d-0145-4af7-fc9a-32f4e420d5b5"
      },
      "outputs": [
        {
          "output_type": "stream",
          "name": "stdout",
          "text": [
            "Epoch 1/20\n",
            "30/30 [==============================] - 4s 80ms/step - loss: 0.5414 - accuracy: 0.7779 - val_loss: 0.4178 - val_accuracy: 0.8637\n",
            "Epoch 2/20\n",
            "30/30 [==============================] - 1s 31ms/step - loss: 0.3478 - accuracy: 0.8870 - val_loss: 0.3300 - val_accuracy: 0.8811\n",
            "Epoch 3/20\n",
            "30/30 [==============================] - 1s 30ms/step - loss: 0.2635 - accuracy: 0.9124 - val_loss: 0.2968 - val_accuracy: 0.8851\n",
            "Epoch 4/20\n",
            "30/30 [==============================] - 1s 31ms/step - loss: 0.2141 - accuracy: 0.9307 - val_loss: 0.2823 - val_accuracy: 0.8868\n",
            "Epoch 5/20\n",
            "30/30 [==============================] - 1s 31ms/step - loss: 0.1800 - accuracy: 0.9385 - val_loss: 0.2761 - val_accuracy: 0.8880\n",
            "Epoch 6/20\n",
            "30/30 [==============================] - 1s 34ms/step - loss: 0.1549 - accuracy: 0.9500 - val_loss: 0.2789 - val_accuracy: 0.8873\n",
            "Epoch 7/20\n",
            "30/30 [==============================] - 1s 34ms/step - loss: 0.1368 - accuracy: 0.9566 - val_loss: 0.2844 - val_accuracy: 0.8863\n",
            "Epoch 8/20\n",
            "30/30 [==============================] - 1s 31ms/step - loss: 0.1180 - accuracy: 0.9641 - val_loss: 0.3010 - val_accuracy: 0.8807\n",
            "Epoch 9/20\n",
            "30/30 [==============================] - 1s 31ms/step - loss: 0.1058 - accuracy: 0.9684 - val_loss: 0.3046 - val_accuracy: 0.8834\n",
            "Epoch 10/20\n",
            "30/30 [==============================] - 1s 34ms/step - loss: 0.0897 - accuracy: 0.9749 - val_loss: 0.3198 - val_accuracy: 0.8809\n",
            "Epoch 11/20\n",
            "30/30 [==============================] - 1s 44ms/step - loss: 0.0806 - accuracy: 0.9781 - val_loss: 0.3627 - val_accuracy: 0.8715\n",
            "Epoch 12/20\n",
            "30/30 [==============================] - 1s 44ms/step - loss: 0.0718 - accuracy: 0.9819 - val_loss: 0.3487 - val_accuracy: 0.8772\n",
            "Epoch 13/20\n",
            "30/30 [==============================] - 1s 34ms/step - loss: 0.0610 - accuracy: 0.9856 - val_loss: 0.3661 - val_accuracy: 0.8782\n",
            "Epoch 14/20\n",
            "30/30 [==============================] - 1s 32ms/step - loss: 0.0511 - accuracy: 0.9903 - val_loss: 0.3906 - val_accuracy: 0.8759\n",
            "Epoch 15/20\n",
            "30/30 [==============================] - 1s 33ms/step - loss: 0.0469 - accuracy: 0.9906 - val_loss: 0.4338 - val_accuracy: 0.8693\n",
            "Epoch 16/20\n",
            "30/30 [==============================] - 1s 31ms/step - loss: 0.0423 - accuracy: 0.9904 - val_loss: 0.4194 - val_accuracy: 0.8756\n",
            "Epoch 17/20\n",
            "30/30 [==============================] - 1s 31ms/step - loss: 0.0343 - accuracy: 0.9939 - val_loss: 0.4451 - val_accuracy: 0.8707\n",
            "Epoch 18/20\n",
            "30/30 [==============================] - 1s 31ms/step - loss: 0.0282 - accuracy: 0.9964 - val_loss: 0.4560 - val_accuracy: 0.8732\n",
            "Epoch 19/20\n",
            "30/30 [==============================] - 1s 31ms/step - loss: 0.0248 - accuracy: 0.9968 - val_loss: 0.4770 - val_accuracy: 0.8720\n",
            "Epoch 20/20\n",
            "30/30 [==============================] - 1s 31ms/step - loss: 0.0223 - accuracy: 0.9970 - val_loss: 0.5031 - val_accuracy: 0.8718\n"
          ]
        }
      ],
      "source": [
        "history = model.fit(x_train_set,\n",
        "          y_train_set,\n",
        "          epochs=20,\n",
        "          batch_size=512,\n",
        "          validation_data=(x_val_set, y_val_set))"
      ]
    },
    {
      "cell_type": "code",
      "source": [
        "history.history.keys()"
      ],
      "metadata": {
        "colab": {
          "base_uri": "https://localhost:8080/"
        },
        "id": "AgivoSzcRuG4",
        "outputId": "51abdf86-d961-48a8-83a9-7c965fbb1a10"
      },
      "execution_count": null,
      "outputs": [
        {
          "output_type": "execute_result",
          "data": {
            "text/plain": [
              "dict_keys(['loss', 'accuracy', 'val_loss', 'val_accuracy'])"
            ]
          },
          "metadata": {},
          "execution_count": 12
        }
      ]
    },
    {
      "cell_type": "code",
      "source": [
        "train_acc = history.history['accuracy']\n",
        "val_acc = history.history['val_accuracy']\n",
        "train_loss = history.history['loss']\n",
        "val_loss = history.history['val_loss']"
      ],
      "metadata": {
        "id": "mJsEQgzKtjg-"
      },
      "execution_count": null,
      "outputs": []
    },
    {
      "cell_type": "code",
      "execution_count": null,
      "metadata": {
        "id": "TbFMBF9KvIIQ"
      },
      "outputs": [],
      "source": [
        "epochs = range(1, len(train_acc) + 1)"
      ]
    },
    {
      "cell_type": "code",
      "execution_count": null,
      "metadata": {
        "colab": {
          "base_uri": "https://localhost:8080/",
          "height": 489
        },
        "id": "2iTVxb6vviUb",
        "outputId": "55c03fe0-bf69-4e25-a2c0-fb1b4f18bbcd"
      },
      "outputs": [
        {
          "output_type": "execute_result",
          "data": {
            "text/plain": [
              "Text(0, 0.5, 'Loss')"
            ]
          },
          "metadata": {},
          "execution_count": 15
        },
        {
          "output_type": "display_data",
          "data": {
            "text/plain": [
              "<Figure size 640x480 with 1 Axes>"
            ],
            "image/png": "[encoded data removed]"
          },
          "metadata": {}
        }
      ],
      "source": [
        "plt.plot(epochs, train_loss, 'ro', label='Training Loss')\n",
        "plt.plot(epochs, val_loss, 'g', label='Validation Loss')\n",
        "plt.title('Training and Validation Loss')\n",
        "plt.xlabel('Epoch')\n",
        "plt.ylabel('Loss')"
      ]
    },
    {
      "cell_type": "code",
      "execution_count": null,
      "metadata": {
        "colab": {
          "base_uri": "https://localhost:8080/",
          "height": 489
        },
        "id": "bTmaqyCrOOWt",
        "outputId": "e4cad183-6216-4cc6-e231-8ed70200e140"
      },
      "outputs": [
        {
          "output_type": "execute_result",
          "data": {
            "text/plain": [
              "Text(0, 0.5, 'Accuracy')"
            ]
          },
          "metadata": {},
          "execution_count": 16
        },
        {
          "output_type": "display_data",
          "data": {
            "text/plain": [
              "<Figure size 640x480 with 1 Axes>"
            ],
            "image/png": "[encoded data removed]"
          },
          "metadata": {}
        }
      ],
      "source": [
        "plt.clf()\n",
        "plt.plot(epochs, train_acc, 'ro', label='Training Accuracy')\n",
        "plt.plot(epochs, val_acc, 'g', label='Validation Accuracy')\n",
        "plt.title('Training and Validation Accuracy')\n",
        "plt.xlabel('Epoch')\n",
        "plt.ylabel('Accuracy')"
      ]
    },
    {
      "cell_type": "code",
      "source": [
        "stroka ='Probably my all-time favorite movie, a story of selflessness, sacrifice and dedication to a noble ca...'"
      ],
      "metadata": {
        "id": "A13lzIz2FGxC"
      },
      "execution_count": null,
      "outputs": []
    },
    {
      "cell_type": "code",
      "source": [
        "model.predict(x_test)"
      ],
      "metadata": {
        "colab": {
          "base_uri": "https://localhost:8080/"
        },
        "id": "OtleG1acFGaz",
        "outputId": "9bb996ec-1cee-4cd6-d06a-2406c2a60673"
      },
      "execution_count": null,
      "outputs": [
        {
          "output_type": "stream",
          "name": "stdout",
          "text": [
            "782/782 [==============================] - 2s 2ms/step\n"
          ]
        },
        {
          "output_type": "execute_result",
          "data": {
            "text/plain": [
              "array([[0.03849262],\n",
              "       [0.99999416],\n",
              "       [0.9649796 ],\n",
              "       ...,\n",
              "       [0.00535258],\n",
              "       [0.01482365],\n",
              "       [0.9315239 ]], dtype=float32)"
            ]
          },
          "metadata": {},
          "execution_count": 23
        }
      ]
    },
    {
      "cell_type": "code",
      "source": [],
      "metadata": {
        "id": "UyWvrFzHFG3j"
      },
      "execution_count": null,
      "outputs": []
    },
    {
      "cell_type": "code",
      "source": [
        "\n"
      ],
      "metadata": {
        "id": "KtH9OWoEFG0Z"
      },
      "execution_count": null,
      "outputs": []
    }
  ]
}