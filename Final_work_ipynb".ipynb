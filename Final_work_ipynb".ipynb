{
  "cells": [
    {
      "cell_type": "markdown",
      "metadata": {
        "id": "view-in-github",
        "colab_type": "text"
      },
      "source": [
        "<a href=\"https://colab.research.google.com/github/DmitriySutyagin/Introduction-to-neural-networks/blob/main/Final_work_ipynb%22.ipynb\" target=\"_parent\"><img src=\"https://colab.research.google.com/assets/colab-badge.svg\" alt=\"Open In Colab\"/></a>"
      ]
    },
    {
      "cell_type": "code",
      "execution_count": 1,
      "metadata": {
        "id": "uBZbGygRhGtA"
      },
      "outputs": [],
      "source": [
        "import pandas as pd\n",
        "import numpy as np\n",
        "import keras\n",
        "import tensorflow\n",
        "import matplotlib\n",
        "import os\n",
        "import tensorflow as tf\n",
        "from tensorflow.keras.layers  import Flatten, Dense, Conv2D, MaxPooling2D\n",
        "from sklearn.model_selection import train_test_split\n",
        "import cv2\n"
      ],
      "id": "uBZbGygRhGtA"
    },
    {
      "cell_type": "code",
      "source": [],
      "metadata": {
        "id": "5wRUI39F-0GA"
      },
      "id": "5wRUI39F-0GA",
      "execution_count": 1,
      "outputs": []
    },
    {
      "cell_type": "code",
      "source": [
        "from google.colab import drive\n",
        "drive.mount('/content/drive/')\n"
      ],
      "metadata": {
        "colab": {
          "base_uri": "https://localhost:8080/"
        },
        "id": "V4Qa7IxCnnH3",
        "outputId": "d9682b2b-7ad1-4c52-f62d-8678d112a598"
      },
      "id": "V4Qa7IxCnnH3",
      "execution_count": 2,
      "outputs": [
        {
          "output_type": "stream",
          "name": "stdout",
          "text": [
            "Drive already mounted at /content/drive/; to attempt to forcibly remount, call drive.mount(\"/content/drive/\", force_remount=True).\n"
          ]
        }
      ]
    },
    {
      "cell_type": "code",
      "execution_count": 3,
      "metadata": {
        "id": "Z_7wtLmPev9A"
      },
      "outputs": [],
      "source": [
        "y = []\n",
        "X = []\n",
        "y_0 = 0\n",
        "y_1 = 1\n",
        "\n",
        "path = '/content/drive/MyDrive/dataset'\n",
        "\n",
        "for f1 in os.listdir(path):\n",
        "    if os.path.isdir(f'{path}/{f1}/0'):\n",
        "      for kt in os.listdir(f'{path}/{f1}/{0}'):\n",
        "          kt_grey = cv2.imread(f'{path}/{f1}/{0}/{kt}', cv2.IMREAD_GRAYSCALE)\n",
        "          kt_resized = cv2.resize(kt_grey, (28, 28))\n",
        "          kt_batch = np.expand_dims(kt_resized, axis=-1)\n",
        "          X.append(kt_batch)\n",
        "          y.append(y_0)\n",
        "\n",
        "    if os.path.isdir(f'{path}/{f1}/1'):\n",
        "      for kt in os.listdir(f'{path}/{f1}/{1}'):\n",
        "          kt_grey = cv2.imread(f'{path}/{f1}/{1}/{kt}', cv2.IMREAD_GRAYSCALE)\n",
        "          kt_resized = cv2.resize(kt_grey, (28, 28))\n",
        "          kt_batch = np.expand_dims(kt_resized, axis=-1)\n",
        "          X.append(kt_batch)\n",
        "          y.append(y_1)"
      ],
      "id": "Z_7wtLmPev9A"
    },
    {
      "cell_type": "code",
      "source": [
        "np_X = np.array(X)\n",
        "np_y = np.array(y)"
      ],
      "metadata": {
        "id": "WR9qxExf_MSF"
      },
      "id": "WR9qxExf_MSF",
      "execution_count": 4,
      "outputs": []
    },
    {
      "cell_type": "code",
      "execution_count": 5,
      "metadata": {
        "id": "qr5rOt6DhT7R"
      },
      "outputs": [],
      "source": [
        "X_train, X_test, y_train, y_test = train_test_split(np_X, np_y, test_size = 0.2, random_state = 42)"
      ],
      "id": "qr5rOt6DhT7R"
    },
    {
      "cell_type": "code",
      "source": [
        "X_train = X_train / 255\n",
        "X_test = X_test / 255"
      ],
      "metadata": {
        "id": "_KZSioT2CFr7"
      },
      "id": "_KZSioT2CFr7",
      "execution_count": 6,
      "outputs": []
    },
    {
      "cell_type": "code",
      "source": [
        "y_train_cat = keras.utils.to_categorical(y_train, 10)\n",
        "y_test_cat = keras.utils.to_categorical(y_test, 10)"
      ],
      "metadata": {
        "id": "Wg_4xel0Capi"
      },
      "id": "Wg_4xel0Capi",
      "execution_count": 7,
      "outputs": []
    },
    {
      "cell_type": "code",
      "execution_count": 8,
      "metadata": {
        "id": "GrFcKiLRrhMx"
      },
      "outputs": [],
      "source": [
        "input_shape = (28, 28, 1)"
      ],
      "id": "GrFcKiLRrhMx"
    },
    {
      "cell_type": "code",
      "execution_count": 13,
      "metadata": {
        "id": "CFHliC_orbYI",
        "colab": {
          "base_uri": "https://localhost:8080/"
        },
        "outputId": "2c44b76e-3476-413e-d492-8bb175a9c309"
      },
      "outputs": [
        {
          "output_type": "stream",
          "name": "stdout",
          "text": [
            "Model: \"sequential_1\"\n",
            "_________________________________________________________________\n",
            " Layer (type)                Output Shape              Param #   \n",
            "=================================================================\n",
            " conv2d_1 (Conv2D)           (None, 28, 28, 256)       2560      \n",
            "                                                                 \n",
            " max_pooling2d_1 (MaxPoolin  (None, 13, 13, 256)       0         \n",
            " g2D)                                                            \n",
            "                                                                 \n",
            " flatten_1 (Flatten)         (None, 43264)             0         \n",
            "                                                                 \n",
            " dense_2 (Dense)             (None, 50)                2163250   \n",
            "                                                                 \n",
            " dense_3 (Dense)             (None, 10)                510       \n",
            "                                                                 \n",
            "=================================================================\n",
            "Total params: 2166320 (8.26 MB)\n",
            "Trainable params: 2166320 (8.26 MB)\n",
            "Non-trainable params: 0 (0.00 Byte)\n",
            "_________________________________________________________________\n"
          ]
        }
      ],
      "source": [
        "model = keras.Sequential([\n",
        "    keras.Input(shape=input_shape),\n",
        "    Conv2D(256, padding = 'same', kernel_size = (3,3), activation = 'relu' ),\n",
        "    MaxPooling2D(pool_size=(3,3), strides=2),\n",
        "    Flatten(),\n",
        "    Dense(50, activation = 'relu' ),\n",
        "    Dense(10, activation = 'softmax')\n",
        "    ] )\n",
        "model.summary()"
      ],
      "id": "CFHliC_orbYI"
    },
    {
      "cell_type": "code",
      "execution_count": 14,
      "metadata": {
        "id": "eJfI3oc_tgA1"
      },
      "outputs": [],
      "source": [
        "model.compile(optimizer='adam',\n",
        "                loss='binary_crossentropy',\n",
        "                metrics=['accuracy'])"
      ],
      "id": "eJfI3oc_tgA1"
    },
    {
      "cell_type": "code",
      "execution_count": 15,
      "metadata": {
        "id": "MmOY2QhDtmet",
        "colab": {
          "base_uri": "https://localhost:8080/"
        },
        "outputId": "c0cab1f3-5fe5-447f-c1b4-000b5016be49"
      },
      "outputs": [
        {
          "output_type": "stream",
          "name": "stdout",
          "text": [
            "Epoch 1/120\n",
            "16/16 [==============================] - 5s 140ms/step - loss: 0.1920 - accuracy: 0.6735 - val_loss: 0.1249 - val_accuracy: 0.7154\n",
            "Epoch 2/120\n",
            "16/16 [==============================] - 2s 100ms/step - loss: 0.1151 - accuracy: 0.7143 - val_loss: 0.1031 - val_accuracy: 0.7154\n",
            "Epoch 3/120\n",
            "16/16 [==============================] - 2s 95ms/step - loss: 0.0934 - accuracy: 0.7694 - val_loss: 0.0996 - val_accuracy: 0.7154\n",
            "Epoch 4/120\n",
            "16/16 [==============================] - 2s 102ms/step - loss: 0.0836 - accuracy: 0.8041 - val_loss: 0.0741 - val_accuracy: 0.7967\n",
            "Epoch 5/120\n",
            "16/16 [==============================] - 2s 96ms/step - loss: 0.0683 - accuracy: 0.8633 - val_loss: 0.1033 - val_accuracy: 0.7317\n",
            "Epoch 6/120\n",
            "16/16 [==============================] - 2s 127ms/step - loss: 0.0754 - accuracy: 0.8347 - val_loss: 0.0656 - val_accuracy: 0.8374\n",
            "Epoch 7/120\n",
            "16/16 [==============================] - 3s 161ms/step - loss: 0.0620 - accuracy: 0.8653 - val_loss: 0.0766 - val_accuracy: 0.8618\n",
            "Epoch 8/120\n",
            "16/16 [==============================] - 2s 100ms/step - loss: 0.0671 - accuracy: 0.8633 - val_loss: 0.0624 - val_accuracy: 0.8780\n",
            "Epoch 9/120\n",
            "16/16 [==============================] - 2s 95ms/step - loss: 0.0549 - accuracy: 0.8959 - val_loss: 0.0615 - val_accuracy: 0.8780\n",
            "Epoch 10/120\n",
            "16/16 [==============================] - 2s 96ms/step - loss: 0.0522 - accuracy: 0.9041 - val_loss: 0.0620 - val_accuracy: 0.8780\n",
            "Epoch 11/120\n",
            "16/16 [==============================] - 2s 102ms/step - loss: 0.0487 - accuracy: 0.9143 - val_loss: 0.0593 - val_accuracy: 0.8537\n",
            "Epoch 12/120\n",
            "16/16 [==============================] - 2s 100ms/step - loss: 0.0497 - accuracy: 0.9082 - val_loss: 0.0639 - val_accuracy: 0.8780\n",
            "Epoch 13/120\n",
            "16/16 [==============================] - 2s 101ms/step - loss: 0.0510 - accuracy: 0.9143 - val_loss: 0.0601 - val_accuracy: 0.8862\n",
            "Epoch 14/120\n",
            "16/16 [==============================] - 2s 141ms/step - loss: 0.0484 - accuracy: 0.9184 - val_loss: 0.0571 - val_accuracy: 0.8618\n",
            "Epoch 15/120\n",
            "16/16 [==============================] - 2s 148ms/step - loss: 0.0458 - accuracy: 0.9184 - val_loss: 0.0574 - val_accuracy: 0.8537\n",
            "Epoch 16/120\n",
            "16/16 [==============================] - 2s 108ms/step - loss: 0.0430 - accuracy: 0.9327 - val_loss: 0.0571 - val_accuracy: 0.8780\n",
            "Epoch 17/120\n",
            "16/16 [==============================] - 2s 124ms/step - loss: 0.0410 - accuracy: 0.9327 - val_loss: 0.0575 - val_accuracy: 0.8862\n",
            "Epoch 18/120\n",
            "16/16 [==============================] - 2s 111ms/step - loss: 0.0430 - accuracy: 0.9265 - val_loss: 0.0556 - val_accuracy: 0.8699\n",
            "Epoch 19/120\n",
            "16/16 [==============================] - 2s 107ms/step - loss: 0.0389 - accuracy: 0.9408 - val_loss: 0.0545 - val_accuracy: 0.8699\n",
            "Epoch 20/120\n",
            "16/16 [==============================] - 2s 100ms/step - loss: 0.0409 - accuracy: 0.9327 - val_loss: 0.0570 - val_accuracy: 0.8618\n",
            "Epoch 21/120\n",
            "16/16 [==============================] - 2s 145ms/step - loss: 0.0403 - accuracy: 0.9265 - val_loss: 0.0699 - val_accuracy: 0.8374\n",
            "Epoch 22/120\n",
            "16/16 [==============================] - 2s 157ms/step - loss: 0.0356 - accuracy: 0.9469 - val_loss: 0.0545 - val_accuracy: 0.8699\n",
            "Epoch 23/120\n",
            "16/16 [==============================] - 2s 106ms/step - loss: 0.0365 - accuracy: 0.9347 - val_loss: 0.0545 - val_accuracy: 0.8780\n",
            "Epoch 24/120\n",
            "16/16 [==============================] - 2s 113ms/step - loss: 0.0333 - accuracy: 0.9429 - val_loss: 0.0547 - val_accuracy: 0.8862\n",
            "Epoch 25/120\n",
            "16/16 [==============================] - 2s 111ms/step - loss: 0.0308 - accuracy: 0.9469 - val_loss: 0.0563 - val_accuracy: 0.8537\n",
            "Epoch 26/120\n",
            "16/16 [==============================] - 2s 108ms/step - loss: 0.0339 - accuracy: 0.9408 - val_loss: 0.0647 - val_accuracy: 0.8618\n",
            "Epoch 27/120\n",
            "16/16 [==============================] - 2s 110ms/step - loss: 0.0316 - accuracy: 0.9449 - val_loss: 0.0571 - val_accuracy: 0.8943\n",
            "Epoch 28/120\n",
            "16/16 [==============================] - 2s 123ms/step - loss: 0.0272 - accuracy: 0.9551 - val_loss: 0.0569 - val_accuracy: 0.8862\n",
            "Epoch 29/120\n",
            "16/16 [==============================] - 3s 168ms/step - loss: 0.0261 - accuracy: 0.9653 - val_loss: 0.0577 - val_accuracy: 0.8862\n",
            "Epoch 30/120\n",
            "16/16 [==============================] - 2s 94ms/step - loss: 0.0250 - accuracy: 0.9612 - val_loss: 0.0719 - val_accuracy: 0.8537\n",
            "Epoch 31/120\n",
            "16/16 [==============================] - 2s 97ms/step - loss: 0.0289 - accuracy: 0.9490 - val_loss: 0.0546 - val_accuracy: 0.8862\n",
            "Epoch 32/120\n",
            "16/16 [==============================] - 2s 98ms/step - loss: 0.0242 - accuracy: 0.9633 - val_loss: 0.0754 - val_accuracy: 0.8618\n",
            "Epoch 33/120\n",
            "16/16 [==============================] - 2s 101ms/step - loss: 0.0255 - accuracy: 0.9510 - val_loss: 0.0545 - val_accuracy: 0.8862\n",
            "Epoch 34/120\n",
            "16/16 [==============================] - 2s 102ms/step - loss: 0.0204 - accuracy: 0.9714 - val_loss: 0.0588 - val_accuracy: 0.8699\n",
            "Epoch 35/120\n",
            "16/16 [==============================] - 2s 105ms/step - loss: 0.0304 - accuracy: 0.9265 - val_loss: 0.0724 - val_accuracy: 0.8537\n",
            "Epoch 36/120\n",
            "16/16 [==============================] - 2s 145ms/step - loss: 0.0235 - accuracy: 0.9531 - val_loss: 0.0547 - val_accuracy: 0.8780\n",
            "Epoch 37/120\n",
            "16/16 [==============================] - 3s 163ms/step - loss: 0.0177 - accuracy: 0.9816 - val_loss: 0.0550 - val_accuracy: 0.8780\n",
            "Epoch 38/120\n",
            "16/16 [==============================] - 2s 107ms/step - loss: 0.0167 - accuracy: 0.9776 - val_loss: 0.0566 - val_accuracy: 0.9024\n",
            "Epoch 39/120\n",
            "16/16 [==============================] - 2s 120ms/step - loss: 0.0191 - accuracy: 0.9633 - val_loss: 0.0652 - val_accuracy: 0.8699\n",
            "Epoch 40/120\n",
            "16/16 [==============================] - 2s 114ms/step - loss: 0.0158 - accuracy: 0.9857 - val_loss: 0.0569 - val_accuracy: 0.8699\n",
            "Epoch 41/120\n",
            "16/16 [==============================] - 2s 118ms/step - loss: 0.0175 - accuracy: 0.9673 - val_loss: 0.0579 - val_accuracy: 0.8780\n",
            "Epoch 42/120\n",
            "16/16 [==============================] - 2s 109ms/step - loss: 0.0147 - accuracy: 0.9837 - val_loss: 0.0553 - val_accuracy: 0.8780\n",
            "Epoch 43/120\n",
            "16/16 [==============================] - 2s 143ms/step - loss: 0.0140 - accuracy: 0.9857 - val_loss: 0.0559 - val_accuracy: 0.8862\n",
            "Epoch 44/120\n",
            "16/16 [==============================] - 2s 154ms/step - loss: 0.0157 - accuracy: 0.9776 - val_loss: 0.0589 - val_accuracy: 0.8943\n",
            "Epoch 45/120\n",
            "16/16 [==============================] - 2s 109ms/step - loss: 0.0126 - accuracy: 0.9918 - val_loss: 0.0567 - val_accuracy: 0.8862\n",
            "Epoch 46/120\n",
            "16/16 [==============================] - 2s 107ms/step - loss: 0.0119 - accuracy: 0.9980 - val_loss: 0.0573 - val_accuracy: 0.8780\n",
            "Epoch 47/120\n",
            "16/16 [==============================] - 2s 108ms/step - loss: 0.0159 - accuracy: 0.9735 - val_loss: 0.0968 - val_accuracy: 0.8374\n",
            "Epoch 48/120\n",
            "16/16 [==============================] - 2s 106ms/step - loss: 0.0170 - accuracy: 0.9735 - val_loss: 0.0584 - val_accuracy: 0.8862\n",
            "Epoch 49/120\n",
            "16/16 [==============================] - 2s 104ms/step - loss: 0.0098 - accuracy: 0.9959 - val_loss: 0.0601 - val_accuracy: 0.8943\n",
            "Epoch 50/120\n",
            "16/16 [==============================] - 2s 126ms/step - loss: 0.0086 - accuracy: 0.9939 - val_loss: 0.0586 - val_accuracy: 0.8943\n",
            "Epoch 51/120\n",
            "16/16 [==============================] - 3s 176ms/step - loss: 0.0089 - accuracy: 0.9939 - val_loss: 0.0702 - val_accuracy: 0.8943\n",
            "Epoch 52/120\n",
            "16/16 [==============================] - 2s 118ms/step - loss: 0.0091 - accuracy: 0.9898 - val_loss: 0.0611 - val_accuracy: 0.8862\n",
            "Epoch 53/120\n",
            "16/16 [==============================] - 2s 110ms/step - loss: 0.0078 - accuracy: 0.9980 - val_loss: 0.0612 - val_accuracy: 0.8943\n",
            "Epoch 54/120\n",
            "16/16 [==============================] - 2s 109ms/step - loss: 0.0081 - accuracy: 0.9939 - val_loss: 0.0627 - val_accuracy: 0.8943\n",
            "Epoch 55/120\n",
            "16/16 [==============================] - 2s 110ms/step - loss: 0.0077 - accuracy: 0.9980 - val_loss: 0.0622 - val_accuracy: 0.8943\n",
            "Epoch 56/120\n",
            "16/16 [==============================] - 2s 116ms/step - loss: 0.0070 - accuracy: 0.9980 - val_loss: 0.0623 - val_accuracy: 0.9024\n",
            "Epoch 57/120\n",
            "16/16 [==============================] - 2s 131ms/step - loss: 0.0068 - accuracy: 0.9980 - val_loss: 0.0617 - val_accuracy: 0.8943\n",
            "Epoch 58/120\n",
            "16/16 [==============================] - 3s 179ms/step - loss: 0.0056 - accuracy: 0.9980 - val_loss: 0.0643 - val_accuracy: 0.8943\n",
            "Epoch 59/120\n",
            "16/16 [==============================] - 2s 130ms/step - loss: 0.0054 - accuracy: 0.9980 - val_loss: 0.0645 - val_accuracy: 0.9024\n",
            "Epoch 60/120\n",
            "16/16 [==============================] - 2s 115ms/step - loss: 0.0052 - accuracy: 0.9980 - val_loss: 0.0641 - val_accuracy: 0.8943\n",
            "Epoch 61/120\n",
            "16/16 [==============================] - 2s 114ms/step - loss: 0.0053 - accuracy: 0.9980 - val_loss: 0.0648 - val_accuracy: 0.8943\n",
            "Epoch 62/120\n",
            "16/16 [==============================] - 2s 121ms/step - loss: 0.0047 - accuracy: 0.9980 - val_loss: 0.0760 - val_accuracy: 0.8943\n",
            "Epoch 63/120\n",
            "16/16 [==============================] - 2s 114ms/step - loss: 0.0050 - accuracy: 0.9959 - val_loss: 0.0676 - val_accuracy: 0.8943\n",
            "Epoch 64/120\n",
            "16/16 [==============================] - 2s 145ms/step - loss: 0.0051 - accuracy: 0.9980 - val_loss: 0.0666 - val_accuracy: 0.8780\n",
            "Epoch 65/120\n",
            "16/16 [==============================] - 3s 170ms/step - loss: 0.0054 - accuracy: 0.9980 - val_loss: 0.0704 - val_accuracy: 0.8943\n",
            "Epoch 66/120\n",
            "16/16 [==============================] - 2s 114ms/step - loss: 0.0060 - accuracy: 0.9939 - val_loss: 0.0718 - val_accuracy: 0.8943\n",
            "Epoch 67/120\n",
            "16/16 [==============================] - 2s 112ms/step - loss: 0.0041 - accuracy: 0.9980 - val_loss: 0.0673 - val_accuracy: 0.8943\n",
            "Epoch 68/120\n",
            "16/16 [==============================] - 3s 163ms/step - loss: 0.0050 - accuracy: 0.9980 - val_loss: 0.0666 - val_accuracy: 0.8943\n",
            "Epoch 69/120\n",
            "16/16 [==============================] - 2s 110ms/step - loss: 0.0037 - accuracy: 0.9980 - val_loss: 0.0708 - val_accuracy: 0.9024\n",
            "Epoch 70/120\n",
            "16/16 [==============================] - 2s 111ms/step - loss: 0.0038 - accuracy: 0.9980 - val_loss: 0.0678 - val_accuracy: 0.8862\n",
            "Epoch 71/120\n",
            "16/16 [==============================] - 2s 146ms/step - loss: 0.0033 - accuracy: 0.9980 - val_loss: 0.0683 - val_accuracy: 0.8862\n",
            "Epoch 72/120\n",
            "16/16 [==============================] - 2s 151ms/step - loss: 0.0036 - accuracy: 0.9980 - val_loss: 0.0710 - val_accuracy: 0.9024\n",
            "Epoch 73/120\n",
            "16/16 [==============================] - 2s 113ms/step - loss: 0.0045 - accuracy: 0.9980 - val_loss: 0.0786 - val_accuracy: 0.8943\n",
            "Epoch 74/120\n",
            "16/16 [==============================] - 2s 109ms/step - loss: 0.0073 - accuracy: 0.9918 - val_loss: 0.0733 - val_accuracy: 0.8943\n",
            "Epoch 75/120\n",
            "16/16 [==============================] - 2s 100ms/step - loss: 0.0054 - accuracy: 0.9939 - val_loss: 0.0822 - val_accuracy: 0.8862\n",
            "Epoch 76/120\n",
            "16/16 [==============================] - 2s 108ms/step - loss: 0.0059 - accuracy: 0.9959 - val_loss: 0.0830 - val_accuracy: 0.8943\n",
            "Epoch 77/120\n",
            "16/16 [==============================] - 2s 111ms/step - loss: 0.0030 - accuracy: 0.9980 - val_loss: 0.0734 - val_accuracy: 0.9024\n",
            "Epoch 78/120\n",
            "16/16 [==============================] - 2s 138ms/step - loss: 0.0027 - accuracy: 0.9980 - val_loss: 0.0765 - val_accuracy: 0.8943\n",
            "Epoch 79/120\n",
            "16/16 [==============================] - 3s 174ms/step - loss: 0.0029 - accuracy: 0.9980 - val_loss: 0.0733 - val_accuracy: 0.9106\n",
            "Epoch 80/120\n",
            "16/16 [==============================] - 2s 119ms/step - loss: 0.0024 - accuracy: 0.9980 - val_loss: 0.0718 - val_accuracy: 0.8943\n",
            "Epoch 81/120\n",
            "16/16 [==============================] - 2s 112ms/step - loss: 0.0023 - accuracy: 0.9980 - val_loss: 0.0744 - val_accuracy: 0.9024\n",
            "Epoch 82/120\n",
            "16/16 [==============================] - 2s 111ms/step - loss: 0.0024 - accuracy: 0.9980 - val_loss: 0.0729 - val_accuracy: 0.8943\n",
            "Epoch 83/120\n",
            "16/16 [==============================] - 2s 106ms/step - loss: 0.0027 - accuracy: 0.9980 - val_loss: 0.0746 - val_accuracy: 0.9024\n",
            "Epoch 84/120\n",
            "16/16 [==============================] - 2s 104ms/step - loss: 0.0021 - accuracy: 0.9980 - val_loss: 0.0730 - val_accuracy: 0.9024\n",
            "Epoch 85/120\n",
            "16/16 [==============================] - 2s 118ms/step - loss: 0.0020 - accuracy: 0.9980 - val_loss: 0.0772 - val_accuracy: 0.8943\n",
            "Epoch 86/120\n",
            "16/16 [==============================] - 3s 177ms/step - loss: 0.0023 - accuracy: 0.9980 - val_loss: 0.0772 - val_accuracy: 0.9106\n",
            "Epoch 87/120\n",
            "16/16 [==============================] - 2s 117ms/step - loss: 0.0021 - accuracy: 0.9980 - val_loss: 0.0763 - val_accuracy: 0.9024\n",
            "Epoch 88/120\n",
            "16/16 [==============================] - 2s 112ms/step - loss: 0.0018 - accuracy: 0.9980 - val_loss: 0.0759 - val_accuracy: 0.9024\n",
            "Epoch 89/120\n",
            "16/16 [==============================] - 2s 113ms/step - loss: 0.0016 - accuracy: 0.9980 - val_loss: 0.0794 - val_accuracy: 0.9024\n",
            "Epoch 90/120\n",
            "16/16 [==============================] - 2s 103ms/step - loss: 0.0016 - accuracy: 0.9980 - val_loss: 0.0780 - val_accuracy: 0.9024\n",
            "Epoch 91/120\n",
            "16/16 [==============================] - 2s 100ms/step - loss: 0.0015 - accuracy: 0.9980 - val_loss: 0.0794 - val_accuracy: 0.9106\n",
            "Epoch 92/120\n",
            "16/16 [==============================] - 2s 99ms/step - loss: 0.0016 - accuracy: 0.9980 - val_loss: 0.0785 - val_accuracy: 0.9024\n",
            "Epoch 93/120\n",
            "16/16 [==============================] - 3s 163ms/step - loss: 0.0015 - accuracy: 0.9980 - val_loss: 0.0777 - val_accuracy: 0.9106\n",
            "Epoch 94/120\n",
            "16/16 [==============================] - 2s 136ms/step - loss: 0.0015 - accuracy: 0.9980 - val_loss: 0.0811 - val_accuracy: 0.9024\n",
            "Epoch 95/120\n",
            "16/16 [==============================] - 2s 100ms/step - loss: 0.0015 - accuracy: 1.0000 - val_loss: 0.0795 - val_accuracy: 0.9106\n",
            "Epoch 96/120\n",
            "16/16 [==============================] - 2s 100ms/step - loss: 0.0015 - accuracy: 0.9980 - val_loss: 0.0801 - val_accuracy: 0.9024\n",
            "Epoch 97/120\n",
            "16/16 [==============================] - 2s 97ms/step - loss: 0.0013 - accuracy: 1.0000 - val_loss: 0.0801 - val_accuracy: 0.9024\n",
            "Epoch 98/120\n",
            "16/16 [==============================] - 2s 98ms/step - loss: 0.0014 - accuracy: 1.0000 - val_loss: 0.0813 - val_accuracy: 0.9024\n",
            "Epoch 99/120\n",
            "16/16 [==============================] - 2s 104ms/step - loss: 0.0014 - accuracy: 1.0000 - val_loss: 0.0807 - val_accuracy: 0.9106\n",
            "Epoch 100/120\n",
            "16/16 [==============================] - 2s 109ms/step - loss: 0.0013 - accuracy: 0.9980 - val_loss: 0.0823 - val_accuracy: 0.9024\n",
            "Epoch 101/120\n",
            "16/16 [==============================] - 3s 171ms/step - loss: 0.0012 - accuracy: 1.0000 - val_loss: 0.0816 - val_accuracy: 0.9106\n",
            "Epoch 102/120\n",
            "16/16 [==============================] - 2s 132ms/step - loss: 0.0011 - accuracy: 0.9980 - val_loss: 0.0834 - val_accuracy: 0.9024\n",
            "Epoch 103/120\n",
            "16/16 [==============================] - 2s 109ms/step - loss: 9.6961e-04 - accuracy: 1.0000 - val_loss: 0.0809 - val_accuracy: 0.9024\n",
            "Epoch 104/120\n",
            "16/16 [==============================] - 2s 112ms/step - loss: 9.3572e-04 - accuracy: 1.0000 - val_loss: 0.0844 - val_accuracy: 0.9106\n",
            "Epoch 105/120\n",
            "16/16 [==============================] - 3s 162ms/step - loss: 0.0010 - accuracy: 1.0000 - val_loss: 0.0883 - val_accuracy: 0.8943\n",
            "Epoch 106/120\n",
            "16/16 [==============================] - 2s 137ms/step - loss: 0.0011 - accuracy: 1.0000 - val_loss: 0.0841 - val_accuracy: 0.9024\n",
            "Epoch 107/120\n",
            "16/16 [==============================] - 2s 148ms/step - loss: 9.1178e-04 - accuracy: 1.0000 - val_loss: 0.0833 - val_accuracy: 0.9024\n",
            "Epoch 108/120\n",
            "16/16 [==============================] - 3s 157ms/step - loss: 8.3382e-04 - accuracy: 1.0000 - val_loss: 0.0847 - val_accuracy: 0.9106\n",
            "Epoch 109/120\n",
            "16/16 [==============================] - 2s 119ms/step - loss: 0.0010 - accuracy: 1.0000 - val_loss: 0.0855 - val_accuracy: 0.9024\n",
            "Epoch 110/120\n",
            "16/16 [==============================] - 2s 106ms/step - loss: 9.6530e-04 - accuracy: 1.0000 - val_loss: 0.0892 - val_accuracy: 0.9024\n",
            "Epoch 111/120\n",
            "16/16 [==============================] - 2s 112ms/step - loss: 9.3019e-04 - accuracy: 1.0000 - val_loss: 0.0850 - val_accuracy: 0.9106\n",
            "Epoch 112/120\n",
            "16/16 [==============================] - 2s 105ms/step - loss: 8.4285e-04 - accuracy: 1.0000 - val_loss: 0.0867 - val_accuracy: 0.9024\n",
            "Epoch 113/120\n",
            "16/16 [==============================] - 2s 114ms/step - loss: 7.3366e-04 - accuracy: 1.0000 - val_loss: 0.0858 - val_accuracy: 0.9024\n",
            "Epoch 114/120\n",
            "16/16 [==============================] - 2s 146ms/step - loss: 7.9014e-04 - accuracy: 1.0000 - val_loss: 0.0871 - val_accuracy: 0.9024\n",
            "Epoch 115/120\n",
            "16/16 [==============================] - 3s 163ms/step - loss: 8.9260e-04 - accuracy: 1.0000 - val_loss: 0.0857 - val_accuracy: 0.9024\n",
            "Epoch 116/120\n",
            "16/16 [==============================] - 2s 108ms/step - loss: 6.3999e-04 - accuracy: 1.0000 - val_loss: 0.0880 - val_accuracy: 0.9024\n",
            "Epoch 117/120\n",
            "16/16 [==============================] - 2s 105ms/step - loss: 6.6719e-04 - accuracy: 1.0000 - val_loss: 0.0890 - val_accuracy: 0.9024\n",
            "Epoch 118/120\n",
            "16/16 [==============================] - 2s 110ms/step - loss: 6.7896e-04 - accuracy: 1.0000 - val_loss: 0.0862 - val_accuracy: 0.9024\n",
            "Epoch 119/120\n",
            "16/16 [==============================] - 2s 108ms/step - loss: 6.6596e-04 - accuracy: 1.0000 - val_loss: 0.0889 - val_accuracy: 0.9024\n",
            "Epoch 120/120\n",
            "16/16 [==============================] - 2s 112ms/step - loss: 8.0056e-04 - accuracy: 1.0000 - val_loss: 0.0880 - val_accuracy: 0.9106\n",
            "CPU times: user 5min 29s, sys: 26.4 s, total: 5min 55s\n",
            "Wall time: 4min 24s\n"
          ]
        },
        {
          "output_type": "execute_result",
          "data": {
            "text/plain": [
              "(490, 28, 28, 1)"
            ]
          },
          "metadata": {},
          "execution_count": 15
        }
      ],
      "source": [
        "%%time\n",
        "\n",
        "history = model.fit(X_train, y_train_cat, epochs=120, validation_data=(X_test, y_test_cat))\n",
        "X_train.shape"
      ],
      "id": "MmOY2QhDtmet"
    },
    {
      "cell_type": "code",
      "source": [
        "result = model.predict(X_test)[122].argmax(axis=0)\n",
        "result"
      ],
      "metadata": {
        "colab": {
          "base_uri": "https://localhost:8080/"
        },
        "id": "KOoPBpb0LQ92",
        "outputId": "13fad375-4489-4ad1-9001-077151b13565"
      },
      "id": "KOoPBpb0LQ92",
      "execution_count": 22,
      "outputs": [
        {
          "output_type": "stream",
          "name": "stdout",
          "text": [
            "4/4 [==============================] - 0s 25ms/step\n"
          ]
        },
        {
          "output_type": "execute_result",
          "data": {
            "text/plain": [
              "0"
            ]
          },
          "metadata": {},
          "execution_count": 22
        }
      ]
    },
    {
      "cell_type": "code",
      "source": [
        "if result == 0:\n",
        "  print('доброкачественная опухоль')\n",
        "else:\n",
        "  print('злокачественная опухоль')"
      ],
      "metadata": {
        "colab": {
          "base_uri": "https://localhost:8080/"
        },
        "id": "wAyEtKXjUv89",
        "outputId": "303c1f20-07cd-4427-b3e6-5e5e3b34da6f"
      },
      "id": "wAyEtKXjUv89",
      "execution_count": 23,
      "outputs": [
        {
          "output_type": "stream",
          "name": "stdout",
          "text": [
            "доброкачественная опухоль\n"
          ]
        }
      ]
    },
    {
      "cell_type": "markdown",
      "source": [
        "В данном примере была разроботана нейронная сеть для определения рака молочной железы по снимку КТ. На вход были взяты сегментированые изображения(снимки КТ). На выходе получили диагноз с точность 91%. Датасет был взят с kaggle."
      ],
      "metadata": {
        "id": "-xfW68K4V3mz"
      },
      "id": "-xfW68K4V3mz"
    }
  ],
  "metadata": {
    "colab": {
      "provenance": [],
      "gpuType": "T4",
      "include_colab_link": true
    },
    "kaggle": {
      "accelerator": "none",
      "dataSources": [
        {
          "databundleVersionId": 862020,
          "sourceId": 14241,
          "sourceType": "competition"
        }
      ],
      "dockerImageVersionId": 30626,
      "isGpuEnabled": false,
      "isInternetEnabled": true,
      "language": "python",
      "sourceType": "notebook"
    },
    "kernelspec": {
      "display_name": "Python 3",
      "name": "python3"
    },
    "language_info": {
      "codemirror_mode": {
        "name": "ipython",
        "version": 3
      },
      "file_extension": ".py",
      "mimetype": "text/x-python",
      "name": "python",
      "nbconvert_exporter": "python",
      "pygments_lexer": "ipython3",
      "version": "3.10.12"
    },
    "papermill": {
      "default_parameters": {},
      "duration": 1062.742156,
      "end_time": "2023-12-27T08:15:53.589044",
      "environment_variables": {},
      "exception": true,
      "input_path": "__notebook__.ipynb",
      "output_path": "__notebook__.ipynb",
      "parameters": {},
      "start_time": "2023-12-27T07:58:10.846888",
      "version": "2.2.2"
    },
    "accelerator": "GPU"
  },
  "nbformat": 4,
  "nbformat_minor": 5
}